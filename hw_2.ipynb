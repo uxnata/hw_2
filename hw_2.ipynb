{
 "cells": [
  {
   "cell_type": "code",
   "execution_count": null,
   "id": "5b9d636a-2ced-4984-90bf-6a487d4467e5",
   "metadata": {},
   "outputs": [],
   "source": [
    "#Task_1\n",
    "\n",
    "player1, player2 = input(\"Enter 2 words: \").split()\n",
    "\n",
    "if player1 == \"paper\" and player2 == \"rock\":\n",
    "  print('player1')\n",
    "\n",
    "elif player1 == \"rock\" and player2 == \"scissors\":\n",
    "  print('player1')\n",
    "\n",
    "elif player1 == \"paper\" and player2 == \"scissors\":\n",
    "  print('player2')\n",
    "\n",
    "else:\n",
    "  print('This input is not valid for our game!')\n",
    "\n"
   ]
  },
  {
   "cell_type": "code",
   "execution_count": null,
   "id": "3b9e7757-8528-4242-88b3-2ca79e87ecd5",
   "metadata": {},
   "outputs": [],
   "source": [
    "#Task_2\n",
    "\n",
    "p = float(input('Enter p: '))\n",
    "q = float(input('Enter q: '))\n",
    "\n",
    "result = (3.14 * ((q / 2) ** 2)) + (p * q)\n",
    "\n",
    "print(\"Result:\", result)\n"
   ]
  },
  {
   "cell_type": "code",
   "execution_count": null,
   "id": "3d5afae1-b6eb-411c-8b90-77ce7b9b20ef",
   "metadata": {},
   "outputs": [],
   "source": [
    "#Task_3\n",
    "card_number = input().strip()\n",
    "\n",
    "is_valid = False\n",
    "\n",
    "def check_card(card):\n",
    "    cleaned = card.replace(\"-\", \"\")\n",
    "    if len(cleaned) != 16:\n",
    "        return False\n",
    "    \n",
    "    if card[0] not in ['4', '5', '6']:\n",
    "        return False\n",
    "    \n",
    "    allowed_chars = set('0123456789-')\n",
    "    if not all(c in allowed_chars for c in card):\n",
    "        return False\n",
    "    \n",
    "    if '-' in card:\n",
    "        parts = card.split('-')\n",
    "        if len(parts) != 4:\n",
    "            return False\n",
    "        for part in parts:\n",
    "            if len(part) != 4 or not part.isdigit():\n",
    "                return False\n",
    "    \n",
    "    for i in range(len(cleaned)-3):\n",
    "        if cleaned[i] == cleaned[i+1] == cleaned[i+2] == cleaned[i+3]:\n",
    "            return False\n",
    "    \n",
    "    return True\n",
    "\n",
    "is_valid = check_card(card_number)\n",
    "print(\"Valid\" if is_valid else \"Invalid\")"
   ]
  }
 ],
 "metadata": {
  "kernelspec": {
   "display_name": "Python [conda env:base] *",
   "language": "python",
   "name": "conda-base-py"
  },
  "language_info": {
   "codemirror_mode": {
    "name": "ipython",
    "version": 3
   },
   "file_extension": ".py",
   "mimetype": "text/x-python",
   "name": "python",
   "nbconvert_exporter": "python",
   "pygments_lexer": "ipython3",
   "version": "3.12.7"
  }
 },
 "nbformat": 4,
 "nbformat_minor": 5
}
